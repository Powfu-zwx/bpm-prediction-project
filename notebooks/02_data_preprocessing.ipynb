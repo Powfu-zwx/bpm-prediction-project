{
  "cells": [
    {
      "cell_type": "markdown",
      "metadata": {},
      "source": [
        "# 🔧 数据预处理和特征工程\n",
        "\n",
        "## 目标\n",
        "- 数据清洗和质量检查\n",
        "- 特征标准化和归一化\n",
        "- 特征选择和工程\n",
        "- 准备训练和测试数据\n",
        "\n",
        "---\n"
      ]
    },
    {
      "cell_type": "code",
      "execution_count": null,
      "metadata": {},
      "outputs": [],
      "source": [
        "import pandas as pd\n",
        "import numpy as np\n",
        "import matplotlib.pyplot as plt\n",
        "import seaborn as sns\n",
        "from sklearn.preprocessing import StandardScaler, MinMaxScaler\n",
        "from sklearn.model_selection import train_test_split\n",
        "from sklearn.feature_selection import SelectKBest, f_regression\n",
        "import joblib\n",
        "import sys\n",
        "import os\n",
        "\n",
        "# 添加项目根目录到路径\n",
        "sys.path.append(os.path.dirname(os.path.dirname(os.path.abspath('__file__'))))\n",
        "from src.config import *\n",
        "\n",
        "print(\"✅ 导入成功！开始数据预处理...\")\n"
      ]
    },
    {
      "cell_type": "markdown",
      "metadata": {},
      "source": [
        "\n"
      ]
    },
    {
      "cell_type": "code",
      "execution_count": null,
      "metadata": {},
      "outputs": [],
      "source": [
        "\n"
      ]
    },
    {
      "cell_type": "code",
      "execution_count": null,
      "metadata": {},
      "outputs": [],
      "source": [
        "\n"
      ]
    }
  ],
  "metadata": {
    "language_info": {
      "name": "python"
    }
  },
  "nbformat": 4,
  "nbformat_minor": 2
}
